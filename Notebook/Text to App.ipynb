{
 "cells": [
  {
   "cell_type": "code",
   "execution_count": null,
   "id": "5afbfbb2-badc-4445-8354-3739209bb64e",
   "metadata": {},
   "outputs": [],
   "source": [
    "# Make sure to start the Ollama server by running \"ollama serve\" in a terminal before testing this notebook."
   ]
  },
  {
   "cell_type": "code",
   "execution_count": 1,
   "id": "cfb9e218-5acd-4e41-989f-bcd636e3582f",
   "metadata": {},
   "outputs": [],
   "source": [
    "import ollama\n",
    "import os"
   ]
  },
  {
   "cell_type": "code",
   "execution_count": 2,
   "id": "c6c536c1-4583-4d14-b6a1-62ee8387bcc0",
   "metadata": {},
   "outputs": [
    {
     "data": {
      "text/plain": [
       "{'models': [{'name': 'deepseek-coder-v2:16b',\n",
       "   'model': 'deepseek-coder-v2:16b',\n",
       "   'modified_at': '2024-09-14T08:20:51.950121402Z',\n",
       "   'size': 8905126121,\n",
       "   'digest': '63fb193b3a9b4322a18e8c6b250ca2e70a5ff531e962dbf95ba089b2566f2fa5',\n",
       "   'details': {'parent_model': '',\n",
       "    'format': 'gguf',\n",
       "    'family': 'deepseek2',\n",
       "    'families': ['deepseek2'],\n",
       "    'parameter_size': '15.7B',\n",
       "    'quantization_level': 'Q4_0'}}]}"
      ]
     },
     "execution_count": 2,
     "metadata": {},
     "output_type": "execute_result"
    }
   ],
   "source": [
    "ollama.list()"
   ]
  },
  {
   "cell_type": "code",
   "execution_count": 8,
   "id": "bacda8f8-b2bb-40b3-b580-f075383158ef",
   "metadata": {},
   "outputs": [],
   "source": [
    "# Example prompt\n",
    "\n",
    "prompt = '''\n",
    "\n",
    "App Description: Counter App with Time Feature\n",
    "\n",
    "The app, titled \"Counter Pro,\" is a simple yet intuitive application that allows users to count up and down using two buttons. Additionally, it features a third button that displays the local time on the screen.\n",
    "\n",
    "Design Overview\n",
    "\n",
    "The app's design is clean, modern, and easy to use. The color scheme is a combination of calming blues and whites, which provides a soothing user experience.\n",
    "\n",
    "Layout\n",
    "\n",
    "The app's layout is divided into three main sections:\n",
    "\n",
    "Counter Section: This section takes up the majority of the screen and displays the current count in a large, bold font.\n",
    "The background color of this section is a light blue (#ADD8E6).\n",
    "The text color is a deep blue (#2F4F7F).\n",
    "Button Section: This section contains three buttons: \"Up,\" \"Down,\" and \"Time.\"\n",
    "The buttons are arranged horizontally and are evenly spaced.\n",
    "Each button has a white background (#FFFFFF) and a blue border (#2F4F7F).\n",
    "The button text is also blue (#2F4F7F).\n",
    "Time Section: This section is displayed below the counter section and shows the local time when the \"Time\" button is pressed.\n",
    "The background color of this section is a light gray (#F7F7F7).\n",
    "The text color is a dark gray (#333333).\n",
    "Button Descriptions\n",
    "\n",
    "Up Button:\n",
    "Text: \"Up\" (blue, #2F4F7F)\n",
    "Down Button:\n",
    "Text: \"Down\" (blue, #2F4F7F)\n",
    "Time Button:\n",
    "Text: \"Time\" (blue, #2F4F7F)\n",
    "Time Display\n",
    "\n",
    "When the \"Time\" button is pressed, the local time is displayed in the Time Section. The time is shown in a 12-hour format with AM/PM indicators.\n",
    "\n",
    "Time Text: The time text is displayed in a large, bold font (dark gray, #333333).\n",
    "Time Background: The background of the Time Section remains light gray (#F7F7F7).\n",
    "\n",
    "'''"
   ]
  },
  {
   "cell_type": "code",
   "execution_count": 21,
   "id": "1564dccb-aa5f-4e31-b9d2-d65ad7bd4701",
   "metadata": {},
   "outputs": [],
   "source": [
    "final_prompt = f'''\n",
    "Generate a complete React Native codebase for an app with the following functionalities, ensuring that all necessary native components and dependencies are imported correctly. \n",
    "\n",
    "The app description is as follows between triple quotes:\n",
    "```\n",
    "{prompt}\n",
    "```\n",
    "Provide only the code, with no explanations or quotations. Use App as the default export. Generate a complete React Native code using only functional components.\n",
    "'''"
   ]
  },
  {
   "cell_type": "code",
   "execution_count": 22,
   "id": "6b3f57e1-9a74-47fe-947c-460f6db68fae",
   "metadata": {},
   "outputs": [],
   "source": [
    "output = ollama.generate(model='deepseek-coder-v2:16b', prompt=final_prompt, options={\"temperature\": 0.8})"
   ]
  },
  {
   "cell_type": "code",
   "execution_count": 23,
   "id": "8f99f734-d548-4ee1-ad9c-9e084c83b31b",
   "metadata": {
    "scrolled": true
   },
   "outputs": [
    {
     "name": "stdout",
     "output_type": "stream",
     "text": [
      " \n",
      "import React, { useState, useRef } from 'react';\n",
      "import { Alert, View, Text, Button, StyleSheet } from 'react-native';\n",
      "import { SafeAreaView, StatusBar } from 'react-native';\n",
      "\n",
      "const App = () => {\n",
      "  const [count, setCount] = useState(0);\n",
      "  const [time, setTime] = useState('');\n",
      "  const timerRef = useRef();\n",
      "\n",
      "  const increment = () => setCount(prevCount => prevCount + 1);\n",
      "  const decrement = () => setCount(prevCount => prevCount - 1);\n",
      "\n",
      "  const updateTime = () => {\n",
      "    const date = new Date();\n",
      "    const hours = date.getHours() % 12 || 12; // Convert to 12-hour format\n",
      "    const minutes = date.getMinutes().toString().padStart(2, '0');\n",
      "    const ampm = date.getHours() >= 12 ? 'PM' : 'AM';\n",
      "    setTime(`${hours}:${minutes} ${ampm}`);\n",
      "  };\n",
      "\n",
      "  React.useEffect(() => {\n",
      "    timerRef.current = updateTime;\n",
      "    const interval = setInterval(updateTime, 60000); // Update time every minute\n",
      "\n",
      "    return () => clearInterval(interval);\n",
      "  }, []);\n",
      "\n",
      "  React.useEffect(() => {\n",
      "    if (timerRef.current) {\n",
      "      timerRef.current();\n",
      "    }\n",
      "  });\n",
      "\n",
      "  return (\n",
      "    <SafeAreaView style={styles.container}>\n",
      "      <StatusBar barStyle=\"dark-content\" backgroundColor=\"#F7F7F7\" />\n",
      "      <View style={styles.counterSection}>\n",
      "        <Text style={styles.countText}>{count}</Text>\n",
      "      </View>\n",
      "      <View style={styles.buttonSection}>\n",
      "        <Button title=\"Up\" onPress={increment} color=\"#2F4F7F\" />\n",
      "        <Button title=\"Down\" onPress={decrement} color=\"#2F4F7F\" />\n",
      "        <Button title=\"Time\" onPress={updateTime} color=\"#2F4F7F\" />\n",
      "      </View>\n",
      "      {time && (\n",
      "        <View style={styles.timeSection}>\n",
      "          <Text style={styles.timeText}>{time}</Text>\n",
      "        </View>\n",
      "      )}\n",
      "    </SafeAreaView>\n",
      "  );\n",
      "};\n",
      "\n",
      "const styles = StyleSheet.create({\n",
      "  container: {\n",
      "    flex: 1,\n",
      "    backgroundColor: '#ADD8E6',\n",
      "  },\n",
      "  counterSection: {\n",
      "    flex: 2,\n",
      "    justifyContent: 'center',\n",
      "    alignItems: 'center',\n",
      "    backgroundColor: '#B0E0E6',\n",
      "  },\n",
      "  countText: {\n",
      "    fontSize: 50,\n",
      "    color: '#2F4F7F',\n",
      "    fontWeight: 'bold',\n",
      "  },\n",
      "  buttonSection: {\n",
      "    flexDirection: 'row',\n",
      "    justifyContent: 'space-around',\n",
      "    alignItems: 'center',\n",
      "    backgroundColor: '#FFFFFF',\n",
      "    borderTopWidth: 1,\n",
      "    borderTopColor: '#2F4F7F',\n",
      "  },\n",
      "  timeSection: {\n",
      "    flex: 1,\n",
      "    justifyContent: 'center',\n",
      "    alignItems: 'center',\n",
      "    backgroundColor: '#F7F7F7',\n",
      "  },\n",
      "  timeText: {\n",
      "    fontSize: 24,\n",
      "    color: '#333333',\n",
      "    fontWeight: 'bold',\n",
      "  },\n",
      "});\n",
      "\n",
      "export default App;\n",
      "\n"
     ]
    }
   ],
   "source": [
    "lines = output[\"response\"].replace(\"```jsx\",\"\").replace(\"```javascript\", \"\").replace(\"```\", \"\")\n",
    "printer = lines.split('\\n')\n",
    "print('\\n'.join(printer))"
   ]
  }
 ],
 "metadata": {
  "kernelspec": {
   "display_name": "Python 3 (ipykernel)",
   "language": "python",
   "name": "python3"
  },
  "language_info": {
   "codemirror_mode": {
    "name": "ipython",
    "version": 3
   },
   "file_extension": ".py",
   "mimetype": "text/x-python",
   "name": "python",
   "nbconvert_exporter": "python",
   "pygments_lexer": "ipython3",
   "version": "3.10.12"
  }
 },
 "nbformat": 4,
 "nbformat_minor": 5
}
